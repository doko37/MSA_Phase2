{
 "cells": [
  {
   "cell_type": "markdown",
   "metadata": {},
   "source": [
    "# Data Science Section - Phase 3\n",
    "# Author: Peter Lee"
   ]
  },
  {
   "cell_type": "markdown",
   "metadata": {},
   "source": [
    "1. Loading dataset"
   ]
  },
  {
   "cell_type": "code",
   "execution_count": 132,
   "metadata": {},
   "outputs": [],
   "source": [
    "import pickle\n",
    "import numpy as np\n",
    "import pandas as pd\n",
    "\n",
    "def unpickle(file):\n",
    "    with open(file, 'rb') as fo:\n",
    "        dict = pickle.load(fo, encoding='bytes')\n",
    "    return dict\n",
    "\n",
    "batch1 = unpickle('./data/data_batch_1')\n",
    "batch2 = unpickle('./data/data_batch_2')\n",
    "batch3 = unpickle('./data/data_batch_3')\n",
    "batch4 = unpickle('./data/data_batch_4')\n",
    "batch5 = unpickle('./data/data_batch_5')\n",
    "test = unpickle('./data/test_batch')"
   ]
  },
  {
   "cell_type": "markdown",
   "metadata": {},
   "source": [
    "2. Exploratory Data Analaysis"
   ]
  },
  {
   "cell_type": "code",
   "execution_count": 133,
   "metadata": {},
   "outputs": [
    {
     "name": "stdout",
     "output_type": "stream",
     "text": [
      "(10000, 3072)\n",
      "(10000, 3072)\n",
      "(10000, 3072)\n",
      "(10000, 3072)\n",
      "(10000, 3072)\n",
      "(10000, 3072)\n"
     ]
    }
   ],
   "source": [
    "# Each batch contains 10000 images with each image storing a 32x32 colour image. The first 1024 contains the red channel values, the next 1024 contains the green, and the final contains the blue.\n",
    "# Therefore each batch should have a shape of 10000x3072.\n",
    "\n",
    "train1_x = batch1[b'data']\n",
    "print(train1_x.shape)\n",
    "train1_y = batch1[b'labels']\n",
    "\n",
    "train2_x = batch2[b'data']\n",
    "print(train2_x.shape)\n",
    "train2_y = batch2[b'labels']\n",
    "\n",
    "train3_x = batch3[b'data']\n",
    "print(train3_x.shape)\n",
    "train3_y = batch3[b'labels']\n",
    "\n",
    "train4_x = batch4[b'data']\n",
    "print(train4_x.shape)\n",
    "train4_y = batch4[b'labels']\n",
    "\n",
    "train5_x = batch5[b'data']\n",
    "print(train5_x.shape)\n",
    "train5_y = batch5[b'labels']\n",
    "\n",
    "# Combining all the batches into one list. Since each array will be concatenated in order, the indeces for labels with the corresponding images will stay the same.\n",
    "\n",
    "train_x = np.concatenate((train1_x, train2_x, train3_x, train4_x, train5_x))\n",
    "train_y = np.concatenate((train1_y, train2_y, train3_y, train4_y, train5_y))\n",
    "\n",
    "test_x = test[b'data']\n",
    "print(test_x.shape)\n",
    "test_y = test[b'labels']\n",
    "\n",
    "# Now we have all the required data and labels to be able to train."
   ]
  },
  {
   "cell_type": "code",
   "execution_count": null,
   "metadata": {},
   "outputs": [],
   "source": [
    "print(train_x.shape)\n",
    "print(train_y.shape)\n",
    "print(test_y)\n",
    "\n"
   ]
  },
  {
   "cell_type": "code",
   "execution_count": 129,
   "metadata": {},
   "outputs": [],
   "source": [
    "from PIL import Image\n",
    "\n",
    "#Producing the first 5 images from the training batch.\n",
    "\n",
    "for numImg in range(5):\n",
    "    w, h = 32, 32\n",
    "    data = np.zeros((h, w, 3), dtype=np.uint8)\n",
    "    for i in range(32):\n",
    "        for j in range(32):\n",
    "            data[i][j] = [train_x[numImg][i * 32 + j], train_x[numImg][i * 32 + j + 1024], train_x[numImg][i * 32 + j + 2048]]\n",
    "\n",
    "    img = Image.fromarray(data, 'RGB')\n",
    "    img.save(f\"img{numImg}.png\")\n",
    "    img.show()"
   ]
  },
  {
   "cell_type": "markdown",
   "metadata": {},
   "source": [
    "The label I will be choosing is \"ship\" which is a value of 8.\n",
    "\n",
    "# 3. Data Processing"
   ]
  },
  {
   "cell_type": "code",
   "execution_count": 146,
   "metadata": {},
   "outputs": [
    {
     "name": "stdout",
     "output_type": "stream",
     "text": [
      "Length of filtered training data: 5000\n",
      "Length of filtered testing data: 1000\n"
     ]
    }
   ],
   "source": [
    "filter_train_x = []\n",
    "filter_train_y = []\n",
    "filter_test_x = []\n",
    "filter_test_y = []\n",
    "\n",
    "for i in range(len(train_y)):\n",
    "    if(train_y[i] == 8):\n",
    "        filter_train_x.append(train_x[i])\n",
    "        filter_train_y.append(train_y[i])\n",
    "\n",
    "for i in range(len(test_y)):\n",
    "    if(test_y[i] == 8):\n",
    "        filter_test_x.append(test_x[i])\n",
    "        filter_test_y.append(test_y[i])\n",
    "\n",
    "print(f\"Length of filtered training data: {len(filter_train_y)}\")\n",
    "print(f\"Length of filtered testing data: {len(filter_test_y)}\")"
   ]
  },
  {
   "cell_type": "code",
   "execution_count": 147,
   "metadata": {},
   "outputs": [],
   "source": []
  }
 ],
 "metadata": {
  "kernelspec": {
   "display_name": "Python 3.10.7 64-bit (microsoft store)",
   "language": "python",
   "name": "python3"
  },
  "language_info": {
   "codemirror_mode": {
    "name": "ipython",
    "version": 3
   },
   "file_extension": ".py",
   "mimetype": "text/x-python",
   "name": "python",
   "nbconvert_exporter": "python",
   "pygments_lexer": "ipython3",
   "version": "3.10.7"
  },
  "orig_nbformat": 4,
  "vscode": {
   "interpreter": {
    "hash": "a9f1f59101e07bffb7c2ecfaca1a3c7ffe3cd326ee75e914ab1b038684b38c5a"
   }
  }
 },
 "nbformat": 4,
 "nbformat_minor": 2
}
